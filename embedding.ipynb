{
 "cells": [
  {
   "cell_type": "code",
   "execution_count": 20,
   "id": "2c7c0341",
   "metadata": {},
   "outputs": [],
   "source": [
    "from tensorflow.keras.preprocessing.text import one_hot"
   ]
  },
  {
   "cell_type": "code",
   "execution_count": 21,
   "id": "62cb7389",
   "metadata": {},
   "outputs": [],
   "source": [
    "### Sentence\n",
    "sent = [\n",
    "    'the glass of milk',\n",
    "    'the glass of juice',\n",
    "    'the cup of tea',\n",
    "    'I am a good boy',\n",
    "    'I am a good developer',\n",
    "    'understand the meaning of words',\n",
    "    'your videos are good',\n",
    "]"
   ]
  },
  {
   "cell_type": "code",
   "execution_count": 22,
   "id": "b5f5e03d",
   "metadata": {},
   "outputs": [
    {
     "data": {
      "text/plain": [
       "['the glass of milk',\n",
       " 'the glass of juice',\n",
       " 'the cup of tea',\n",
       " 'I am a good boy',\n",
       " 'I am a good developer',\n",
       " 'understand the meaning of words',\n",
       " 'your videos are good']"
      ]
     },
     "execution_count": 22,
     "metadata": {},
     "output_type": "execute_result"
    }
   ],
   "source": [
    "sent"
   ]
  },
  {
   "cell_type": "code",
   "execution_count": 23,
   "id": "6dfbb4f9",
   "metadata": {},
   "outputs": [],
   "source": [
    "## Define the vocabulary size\n",
    "voc_size = 10000"
   ]
  },
  {
   "cell_type": "code",
   "execution_count": 31,
   "id": "037cac4f",
   "metadata": {},
   "outputs": [
    {
     "data": {
      "text/plain": [
       "[[2106, 4851, 1358, 9178],\n",
       " [2106, 4851, 1358, 5000],\n",
       " [2106, 2213, 1358, 7233],\n",
       " [7463, 8360, 4211, 6940, 654],\n",
       " [7463, 8360, 4211, 6940, 210],\n",
       " [6384, 2106, 267, 1358, 4574],\n",
       " [3659, 811, 5071, 6940]]"
      ]
     },
     "execution_count": 31,
     "metadata": {},
     "output_type": "execute_result"
    }
   ],
   "source": [
    "### One Hot Representation\n",
    "one_hot_repr = [one_hot(words, voc_size) for words in sent]\n",
    "one_hot_repr"
   ]
  },
  {
   "cell_type": "code",
   "execution_count": 32,
   "id": "7275a8d4",
   "metadata": {},
   "outputs": [],
   "source": [
    "## Word Embedding Representation\n",
    "\n",
    "from tensorflow.keras.layers import Embedding\n",
    "# from tensorflow.keras.processing.sequence import pad_sequences\n",
    "from tensorflow.keras.utils import pad_sequences\n",
    "from tensorflow.keras.models import Sequential"
   ]
  },
  {
   "cell_type": "code",
   "execution_count": 33,
   "id": "1a04d781",
   "metadata": {},
   "outputs": [],
   "source": [
    "import numpy as np"
   ]
  },
  {
   "cell_type": "code",
   "execution_count": 34,
   "id": "856879ba",
   "metadata": {},
   "outputs": [
    {
     "name": "stdout",
     "output_type": "stream",
     "text": [
      "[[   0    0    0    0 2106 4851 1358 9178]\n",
      " [   0    0    0    0 2106 4851 1358 5000]\n",
      " [   0    0    0    0 2106 2213 1358 7233]\n",
      " [   0    0    0 7463 8360 4211 6940  654]\n",
      " [   0    0    0 7463 8360 4211 6940  210]\n",
      " [   0    0    0 6384 2106  267 1358 4574]\n",
      " [   0    0    0    0 3659  811 5071 6940]]\n"
     ]
    }
   ],
   "source": [
    "sent_length=8\n",
    "embedded_docs=pad_sequences(one_hot_repr, padding='pre', maxlen=sent_length)\n",
    "print(embedded_docs)"
   ]
  },
  {
   "cell_type": "code",
   "execution_count": 47,
   "id": "7345fa0d",
   "metadata": {},
   "outputs": [],
   "source": [
    "## Feature representation\n",
    "dim=10"
   ]
  },
  {
   "cell_type": "code",
   "execution_count": 48,
   "id": "437052a3",
   "metadata": {},
   "outputs": [
    {
     "name": "stderr",
     "output_type": "stream",
     "text": [
      "C:\\Users\\waqar\\AppData\\Roaming\\Python\\Python312\\site-packages\\keras\\src\\layers\\core\\embedding.py:97: UserWarning: Argument `input_length` is deprecated. Just remove it.\n",
      "  warnings.warn(\n"
     ]
    }
   ],
   "source": [
    "model = Sequential()\n",
    "model.add(Embedding(voc_size, dim, input_length=sent_length))\n",
    "model.compile('adam', 'mse')"
   ]
  },
  {
   "cell_type": "code",
   "execution_count": 49,
   "id": "0c8019c1",
   "metadata": {},
   "outputs": [
    {
     "data": {
      "text/html": [
       "<pre style=\"white-space:pre;overflow-x:auto;line-height:normal;font-family:Menlo,'DejaVu Sans Mono',consolas,'Courier New',monospace\"><span style=\"font-weight: bold\">Model: \"sequential_4\"</span>\n",
       "</pre>\n"
      ],
      "text/plain": [
       "\u001b[1mModel: \"sequential_4\"\u001b[0m\n"
      ]
     },
     "metadata": {},
     "output_type": "display_data"
    },
    {
     "data": {
      "text/html": [
       "<pre style=\"white-space:pre;overflow-x:auto;line-height:normal;font-family:Menlo,'DejaVu Sans Mono',consolas,'Courier New',monospace\">┏━━━━━━━━━━━━━━━━━━━━━━━━━━━━━━━━━┳━━━━━━━━━━━━━━━━━━━━━━━━┳━━━━━━━━━━━━━━━┓\n",
       "┃<span style=\"font-weight: bold\"> Layer (type)                    </span>┃<span style=\"font-weight: bold\"> Output Shape           </span>┃<span style=\"font-weight: bold\">       Param # </span>┃\n",
       "┡━━━━━━━━━━━━━━━━━━━━━━━━━━━━━━━━━╇━━━━━━━━━━━━━━━━━━━━━━━━╇━━━━━━━━━━━━━━━┩\n",
       "│ embedding_4 (<span style=\"color: #0087ff; text-decoration-color: #0087ff\">Embedding</span>)         │ ?                      │   <span style=\"color: #00af00; text-decoration-color: #00af00\">0</span> (unbuilt) │\n",
       "└─────────────────────────────────┴────────────────────────┴───────────────┘\n",
       "</pre>\n"
      ],
      "text/plain": [
       "┏━━━━━━━━━━━━━━━━━━━━━━━━━━━━━━━━━┳━━━━━━━━━━━━━━━━━━━━━━━━┳━━━━━━━━━━━━━━━┓\n",
       "┃\u001b[1m \u001b[0m\u001b[1mLayer (type)                   \u001b[0m\u001b[1m \u001b[0m┃\u001b[1m \u001b[0m\u001b[1mOutput Shape          \u001b[0m\u001b[1m \u001b[0m┃\u001b[1m \u001b[0m\u001b[1m      Param #\u001b[0m\u001b[1m \u001b[0m┃\n",
       "┡━━━━━━━━━━━━━━━━━━━━━━━━━━━━━━━━━╇━━━━━━━━━━━━━━━━━━━━━━━━╇━━━━━━━━━━━━━━━┩\n",
       "│ embedding_4 (\u001b[38;5;33mEmbedding\u001b[0m)         │ ?                      │   \u001b[38;5;34m0\u001b[0m (unbuilt) │\n",
       "└─────────────────────────────────┴────────────────────────┴───────────────┘\n"
      ]
     },
     "metadata": {},
     "output_type": "display_data"
    },
    {
     "data": {
      "text/html": [
       "<pre style=\"white-space:pre;overflow-x:auto;line-height:normal;font-family:Menlo,'DejaVu Sans Mono',consolas,'Courier New',monospace\"><span style=\"font-weight: bold\"> Total params: </span><span style=\"color: #00af00; text-decoration-color: #00af00\">0</span> (0.00 B)\n",
       "</pre>\n"
      ],
      "text/plain": [
       "\u001b[1m Total params: \u001b[0m\u001b[38;5;34m0\u001b[0m (0.00 B)\n"
      ]
     },
     "metadata": {},
     "output_type": "display_data"
    },
    {
     "data": {
      "text/html": [
       "<pre style=\"white-space:pre;overflow-x:auto;line-height:normal;font-family:Menlo,'DejaVu Sans Mono',consolas,'Courier New',monospace\"><span style=\"font-weight: bold\"> Trainable params: </span><span style=\"color: #00af00; text-decoration-color: #00af00\">0</span> (0.00 B)\n",
       "</pre>\n"
      ],
      "text/plain": [
       "\u001b[1m Trainable params: \u001b[0m\u001b[38;5;34m0\u001b[0m (0.00 B)\n"
      ]
     },
     "metadata": {},
     "output_type": "display_data"
    },
    {
     "data": {
      "text/html": [
       "<pre style=\"white-space:pre;overflow-x:auto;line-height:normal;font-family:Menlo,'DejaVu Sans Mono',consolas,'Courier New',monospace\"><span style=\"font-weight: bold\"> Non-trainable params: </span><span style=\"color: #00af00; text-decoration-color: #00af00\">0</span> (0.00 B)\n",
       "</pre>\n"
      ],
      "text/plain": [
       "\u001b[1m Non-trainable params: \u001b[0m\u001b[38;5;34m0\u001b[0m (0.00 B)\n"
      ]
     },
     "metadata": {},
     "output_type": "display_data"
    }
   ],
   "source": [
    "model.summary()"
   ]
  },
  {
   "cell_type": "code",
   "execution_count": 53,
   "id": "95a71b09",
   "metadata": {},
   "outputs": [
    {
     "name": "stdout",
     "output_type": "stream",
     "text": [
      "\u001b[1m1/1\u001b[0m \u001b[32m━━━━━━━━━━━━━━━━━━━━\u001b[0m\u001b[37m\u001b[0m \u001b[1m0s\u001b[0m 32ms/step\n"
     ]
    },
    {
     "data": {
      "text/plain": [
       "array([[ 0.01367141, -0.02649692,  0.03010592, -0.00381689,  0.03033819,\n",
       "         0.04889419, -0.04430431,  0.02959963, -0.02966242, -0.03248713],\n",
       "       [ 0.01367141, -0.02649692,  0.03010592, -0.00381689,  0.03033819,\n",
       "         0.04889419, -0.04430431,  0.02959963, -0.02966242, -0.03248713],\n",
       "       [ 0.01367141, -0.02649692,  0.03010592, -0.00381689,  0.03033819,\n",
       "         0.04889419, -0.04430431,  0.02959963, -0.02966242, -0.03248713],\n",
       "       [ 0.01367141, -0.02649692,  0.03010592, -0.00381689,  0.03033819,\n",
       "         0.04889419, -0.04430431,  0.02959963, -0.02966242, -0.03248713],\n",
       "       [ 0.00384591, -0.04610867,  0.0074497 ,  0.04574842,  0.03447569,\n",
       "        -0.01077479,  0.02507004,  0.04826157, -0.04497281, -0.01694302],\n",
       "       [ 0.03551671, -0.03383024, -0.04780736, -0.02718148,  0.02244976,\n",
       "        -0.03096792, -0.03001082,  0.04165584,  0.045797  , -0.04178412],\n",
       "       [-0.04657265,  0.01249902,  0.01763841, -0.00980375,  0.01969036,\n",
       "        -0.00094924, -0.01888169,  0.03908357, -0.0231374 ,  0.00768167],\n",
       "       [ 0.04454029,  0.04310923, -0.00245722, -0.04655096,  0.01099167,\n",
       "        -0.01916398,  0.02844311,  0.01761684,  0.03066379,  0.02061863]],\n",
       "      dtype=float32)"
      ]
     },
     "execution_count": 53,
     "metadata": {},
     "output_type": "execute_result"
    }
   ],
   "source": [
    "model.predict(embedded_docs[0])"
   ]
  },
  {
   "cell_type": "code",
   "execution_count": 54,
   "id": "f8a26f50",
   "metadata": {},
   "outputs": [
    {
     "data": {
      "text/plain": [
       "array([   0,    0,    0,    0, 2106, 4851, 1358, 9178], dtype=int32)"
      ]
     },
     "execution_count": 54,
     "metadata": {},
     "output_type": "execute_result"
    }
   ],
   "source": [
    "embedded_docs[0]"
   ]
  },
  {
   "cell_type": "code",
   "execution_count": 55,
   "id": "2dfbe322",
   "metadata": {},
   "outputs": [
    {
     "name": "stdout",
     "output_type": "stream",
     "text": [
      "\u001b[1m1/1\u001b[0m \u001b[32m━━━━━━━━━━━━━━━━━━━━\u001b[0m\u001b[37m\u001b[0m \u001b[1m0s\u001b[0m 41ms/step\n"
     ]
    },
    {
     "data": {
      "text/plain": [
       "array([[ 0.01367141, -0.02649692,  0.03010592, -0.00381689,  0.03033819,\n",
       "         0.04889419, -0.04430431,  0.02959963, -0.02966242, -0.03248713],\n",
       "       [ 0.01367141, -0.02649692,  0.03010592, -0.00381689,  0.03033819,\n",
       "         0.04889419, -0.04430431,  0.02959963, -0.02966242, -0.03248713],\n",
       "       [ 0.01367141, -0.02649692,  0.03010592, -0.00381689,  0.03033819,\n",
       "         0.04889419, -0.04430431,  0.02959963, -0.02966242, -0.03248713],\n",
       "       [ 0.01367141, -0.02649692,  0.03010592, -0.00381689,  0.03033819,\n",
       "         0.04889419, -0.04430431,  0.02959963, -0.02966242, -0.03248713],\n",
       "       [ 0.00384591, -0.04610867,  0.0074497 ,  0.04574842,  0.03447569,\n",
       "        -0.01077479,  0.02507004,  0.04826157, -0.04497281, -0.01694302],\n",
       "       [ 0.03551671, -0.03383024, -0.04780736, -0.02718148,  0.02244976,\n",
       "        -0.03096792, -0.03001082,  0.04165584,  0.045797  , -0.04178412],\n",
       "       [-0.04657265,  0.01249902,  0.01763841, -0.00980375,  0.01969036,\n",
       "        -0.00094924, -0.01888169,  0.03908357, -0.0231374 ,  0.00768167],\n",
       "       [ 0.04454029,  0.04310923, -0.00245722, -0.04655096,  0.01099167,\n",
       "        -0.01916398,  0.02844311,  0.01761684,  0.03066379,  0.02061863]],\n",
       "      dtype=float32)"
      ]
     },
     "execution_count": 55,
     "metadata": {},
     "output_type": "execute_result"
    }
   ],
   "source": [
    "model.predict(embedded_docs[0])"
   ]
  },
  {
   "cell_type": "code",
   "execution_count": null,
   "id": "f380f9f5",
   "metadata": {},
   "outputs": [],
   "source": []
  }
 ],
 "metadata": {
  "kernelspec": {
   "display_name": "Python 3",
   "language": "python",
   "name": "python3"
  },
  "language_info": {
   "codemirror_mode": {
    "name": "ipython",
    "version": 3
   },
   "file_extension": ".py",
   "mimetype": "text/x-python",
   "name": "python",
   "nbconvert_exporter": "python",
   "pygments_lexer": "ipython3",
   "version": "3.12.0"
  }
 },
 "nbformat": 4,
 "nbformat_minor": 5
}
