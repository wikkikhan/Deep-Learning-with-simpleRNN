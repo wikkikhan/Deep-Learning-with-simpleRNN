{
 "cells": [
  {
   "cell_type": "code",
   "execution_count": 1,
   "id": "e587fb36",
   "metadata": {},
   "outputs": [],
   "source": [
    "# Step 1: Import Libraries and Load the Model\n",
    "import numpy as np\n",
    "import tensorflow as tf\n",
    "from tensorflow.keras.datasets import imdb\n",
    "from tensorflow.keras.preprocessing import sequence\n",
    "from tensorflow.keras.models import load_model"
   ]
  },
  {
   "cell_type": "code",
   "execution_count": 3,
   "id": "ded35ce2",
   "metadata": {},
   "outputs": [],
   "source": [
    "# Load the IMDB dataset word index\n",
    "word_index = imdb.get_word_index()\n",
    "reverse_word_index = {value: key for key, value in word_index.items()}"
   ]
  },
  {
   "cell_type": "code",
   "execution_count": 6,
   "id": "77684cee",
   "metadata": {},
   "outputs": [
    {
     "name": "stderr",
     "output_type": "stream",
     "text": [
      "WARNING:absl:Compiled the loaded model, but the compiled metrics have yet to be built. `model.compile_metrics` will be empty until you train or evaluate the model.\n"
     ]
    },
    {
     "data": {
      "text/html": [
       "<pre style=\"white-space:pre;overflow-x:auto;line-height:normal;font-family:Menlo,'DejaVu Sans Mono',consolas,'Courier New',monospace\"><span style=\"font-weight: bold\">Model: \"sequential\"</span>\n",
       "</pre>\n"
      ],
      "text/plain": [
       "\u001b[1mModel: \"sequential\"\u001b[0m\n"
      ]
     },
     "metadata": {},
     "output_type": "display_data"
    },
    {
     "data": {
      "text/html": [
       "<pre style=\"white-space:pre;overflow-x:auto;line-height:normal;font-family:Menlo,'DejaVu Sans Mono',consolas,'Courier New',monospace\">┏━━━━━━━━━━━━━━━━━━━━━━━━━━━━━━━━━┳━━━━━━━━━━━━━━━━━━━━━━━━┳━━━━━━━━━━━━━━━┓\n",
       "┃<span style=\"font-weight: bold\"> Layer (type)                    </span>┃<span style=\"font-weight: bold\"> Output Shape           </span>┃<span style=\"font-weight: bold\">       Param # </span>┃\n",
       "┡━━━━━━━━━━━━━━━━━━━━━━━━━━━━━━━━━╇━━━━━━━━━━━━━━━━━━━━━━━━╇━━━━━━━━━━━━━━━┩\n",
       "│ embedding (<span style=\"color: #0087ff; text-decoration-color: #0087ff\">Embedding</span>)           │ (<span style=\"color: #00af00; text-decoration-color: #00af00\">32</span>, <span style=\"color: #00af00; text-decoration-color: #00af00\">500</span>, <span style=\"color: #00af00; text-decoration-color: #00af00\">128</span>)         │     <span style=\"color: #00af00; text-decoration-color: #00af00\">1,280,000</span> │\n",
       "├─────────────────────────────────┼────────────────────────┼───────────────┤\n",
       "│ simple_rnn (<span style=\"color: #0087ff; text-decoration-color: #0087ff\">SimpleRNN</span>)          │ (<span style=\"color: #00af00; text-decoration-color: #00af00\">32</span>, <span style=\"color: #00af00; text-decoration-color: #00af00\">128</span>)              │        <span style=\"color: #00af00; text-decoration-color: #00af00\">32,896</span> │\n",
       "├─────────────────────────────────┼────────────────────────┼───────────────┤\n",
       "│ dense (<span style=\"color: #0087ff; text-decoration-color: #0087ff\">Dense</span>)                   │ (<span style=\"color: #00af00; text-decoration-color: #00af00\">32</span>, <span style=\"color: #00af00; text-decoration-color: #00af00\">1</span>)                │           <span style=\"color: #00af00; text-decoration-color: #00af00\">129</span> │\n",
       "└─────────────────────────────────┴────────────────────────┴───────────────┘\n",
       "</pre>\n"
      ],
      "text/plain": [
       "┏━━━━━━━━━━━━━━━━━━━━━━━━━━━━━━━━━┳━━━━━━━━━━━━━━━━━━━━━━━━┳━━━━━━━━━━━━━━━┓\n",
       "┃\u001b[1m \u001b[0m\u001b[1mLayer (type)                   \u001b[0m\u001b[1m \u001b[0m┃\u001b[1m \u001b[0m\u001b[1mOutput Shape          \u001b[0m\u001b[1m \u001b[0m┃\u001b[1m \u001b[0m\u001b[1m      Param #\u001b[0m\u001b[1m \u001b[0m┃\n",
       "┡━━━━━━━━━━━━━━━━━━━━━━━━━━━━━━━━━╇━━━━━━━━━━━━━━━━━━━━━━━━╇━━━━━━━━━━━━━━━┩\n",
       "│ embedding (\u001b[38;5;33mEmbedding\u001b[0m)           │ (\u001b[38;5;34m32\u001b[0m, \u001b[38;5;34m500\u001b[0m, \u001b[38;5;34m128\u001b[0m)         │     \u001b[38;5;34m1,280,000\u001b[0m │\n",
       "├─────────────────────────────────┼────────────────────────┼───────────────┤\n",
       "│ simple_rnn (\u001b[38;5;33mSimpleRNN\u001b[0m)          │ (\u001b[38;5;34m32\u001b[0m, \u001b[38;5;34m128\u001b[0m)              │        \u001b[38;5;34m32,896\u001b[0m │\n",
       "├─────────────────────────────────┼────────────────────────┼───────────────┤\n",
       "│ dense (\u001b[38;5;33mDense\u001b[0m)                   │ (\u001b[38;5;34m32\u001b[0m, \u001b[38;5;34m1\u001b[0m)                │           \u001b[38;5;34m129\u001b[0m │\n",
       "└─────────────────────────────────┴────────────────────────┴───────────────┘\n"
      ]
     },
     "metadata": {},
     "output_type": "display_data"
    },
    {
     "data": {
      "text/html": [
       "<pre style=\"white-space:pre;overflow-x:auto;line-height:normal;font-family:Menlo,'DejaVu Sans Mono',consolas,'Courier New',monospace\"><span style=\"font-weight: bold\"> Total params: </span><span style=\"color: #00af00; text-decoration-color: #00af00\">1,313,027</span> (5.01 MB)\n",
       "</pre>\n"
      ],
      "text/plain": [
       "\u001b[1m Total params: \u001b[0m\u001b[38;5;34m1,313,027\u001b[0m (5.01 MB)\n"
      ]
     },
     "metadata": {},
     "output_type": "display_data"
    },
    {
     "data": {
      "text/html": [
       "<pre style=\"white-space:pre;overflow-x:auto;line-height:normal;font-family:Menlo,'DejaVu Sans Mono',consolas,'Courier New',monospace\"><span style=\"font-weight: bold\"> Trainable params: </span><span style=\"color: #00af00; text-decoration-color: #00af00\">1,313,025</span> (5.01 MB)\n",
       "</pre>\n"
      ],
      "text/plain": [
       "\u001b[1m Trainable params: \u001b[0m\u001b[38;5;34m1,313,025\u001b[0m (5.01 MB)\n"
      ]
     },
     "metadata": {},
     "output_type": "display_data"
    },
    {
     "data": {
      "text/html": [
       "<pre style=\"white-space:pre;overflow-x:auto;line-height:normal;font-family:Menlo,'DejaVu Sans Mono',consolas,'Courier New',monospace\"><span style=\"font-weight: bold\"> Non-trainable params: </span><span style=\"color: #00af00; text-decoration-color: #00af00\">0</span> (0.00 B)\n",
       "</pre>\n"
      ],
      "text/plain": [
       "\u001b[1m Non-trainable params: \u001b[0m\u001b[38;5;34m0\u001b[0m (0.00 B)\n"
      ]
     },
     "metadata": {},
     "output_type": "display_data"
    },
    {
     "data": {
      "text/html": [
       "<pre style=\"white-space:pre;overflow-x:auto;line-height:normal;font-family:Menlo,'DejaVu Sans Mono',consolas,'Courier New',monospace\"><span style=\"font-weight: bold\"> Optimizer params: </span><span style=\"color: #00af00; text-decoration-color: #00af00\">2</span> (12.00 B)\n",
       "</pre>\n"
      ],
      "text/plain": [
       "\u001b[1m Optimizer params: \u001b[0m\u001b[38;5;34m2\u001b[0m (12.00 B)\n"
      ]
     },
     "metadata": {},
     "output_type": "display_data"
    }
   ],
   "source": [
    "# Load the pre-trained model with Relu activation\n",
    "model = load_model('simple_rnn_imdb.h5')\n",
    "model.summary()"
   ]
  },
  {
   "cell_type": "code",
   "execution_count": 7,
   "id": "9d1d6a73",
   "metadata": {},
   "outputs": [
    {
     "data": {
      "text/plain": [
       "[array([[ 0.00440001, -0.01459384, -0.01644451, ...,  0.0641879 ,\n",
       "          0.1947902 ,  0.11742127],\n",
       "        [-0.0003143 ,  0.04458141, -0.02075915, ..., -0.03425609,\n",
       "          0.01769603, -0.07116351],\n",
       "        [ 0.02201675, -0.06317645, -0.02517869, ..., -0.05502896,\n",
       "         -0.01163557, -0.05998756],\n",
       "        ...,\n",
       "        [ 0.04222455,  0.0801523 ,  0.06612895, ...,  0.04722983,\n",
       "         -0.00079462, -0.08738827],\n",
       "        [-0.09769478,  0.00313568,  0.09503506, ..., -0.03693577,\n",
       "         -0.07704791,  0.04149525],\n",
       "        [ 0.08978403, -0.02394086,  0.01478023, ...,  0.15243655,\n",
       "         -0.0486584 , -0.05838105]], dtype=float32),\n",
       " array([[-0.05540388, -0.03599396, -0.03878821, ...,  0.02367185,\n",
       "         -0.08155332,  0.12307454],\n",
       "        [ 0.13050489,  0.14768875,  0.1405165 , ...,  0.00377672,\n",
       "         -0.19010192,  0.17791523],\n",
       "        [ 0.02474271, -0.02866128,  0.03440684, ...,  0.19950803,\n",
       "         -0.11882193,  0.1595688 ],\n",
       "        ...,\n",
       "        [-0.01838919,  0.08266798, -0.05179115, ...,  0.2724047 ,\n",
       "         -0.17580698,  0.15508133],\n",
       "        [-0.03235061, -0.22260927, -0.05174559, ..., -0.01626693,\n",
       "         -0.12255254, -0.01610339],\n",
       "        [-0.02772626, -0.10836885,  0.08638279, ..., -0.2232521 ,\n",
       "          0.20958218,  0.16501437]], dtype=float32),\n",
       " array([[ 0.12596577,  0.02569474, -0.11652571, ...,  0.00733781,\n",
       "          0.05852339, -0.0490825 ],\n",
       "        [ 0.01918465,  0.02927457,  0.14006184, ...,  0.06502287,\n",
       "          0.00729548, -0.10308726],\n",
       "        [-0.10867766,  0.05041414, -0.01736972, ...,  0.12874508,\n",
       "          0.03912624, -0.11702721],\n",
       "        ...,\n",
       "        [ 0.12567411,  0.02536398, -0.06418894, ...,  0.19535384,\n",
       "          0.05314121, -0.02354129],\n",
       "        [-0.03183806,  0.00142509, -0.01524717, ...,  0.19171095,\n",
       "          0.09001837, -0.01595549],\n",
       "        [-0.04348918,  0.00577764,  0.19573727, ..., -0.00279612,\n",
       "         -0.12992167, -0.01205408]], dtype=float32),\n",
       " array([-0.03279481, -0.05600232, -0.02577272,  0.02823243,  0.03234987,\n",
       "         0.00496556, -0.06652579,  0.01482049, -0.07973673, -0.05373023,\n",
       "        -0.0321915 , -0.04992624,  0.02879255, -0.04182025, -0.02573781,\n",
       "        -0.0252529 ,  0.00539848, -0.01693191,  0.0401793 ,  0.01095432,\n",
       "        -0.02352654, -0.03925875, -0.0549489 , -0.03638559,  0.02825673,\n",
       "        -0.01628462, -0.04543486,  0.034518  ,  0.0346525 , -0.02565005,\n",
       "        -0.01482312,  0.01108406, -0.00394558, -0.03861472,  0.00349436,\n",
       "         0.01970523, -0.02412861, -0.05163243, -0.02522621, -0.00146687,\n",
       "        -0.04817193,  0.02893944, -0.02101001,  0.01588569, -0.02143908,\n",
       "        -0.01155331, -0.04998588,  0.02423601,  0.02196406, -0.03522714,\n",
       "        -0.00999451, -0.03836369, -0.03367892, -0.01133235,  0.02924499,\n",
       "        -0.05156237, -0.03543906,  0.01307738, -0.00833599, -0.04564001,\n",
       "         0.04430205,  0.00304872,  0.02559777,  0.00110628, -0.02411764,\n",
       "         0.04464966, -0.01906211,  0.05814901,  0.05155675,  0.01811079,\n",
       "        -0.03466903, -0.03422521, -0.01114287, -0.04391015,  0.01636518,\n",
       "        -0.02771363,  0.00691331, -0.02627435,  0.02150683, -0.01727292,\n",
       "        -0.00553097, -0.01731918,  0.00289341, -0.04108918,  0.05717204,\n",
       "        -0.07953406, -0.004199  ,  0.07381654, -0.02309674, -0.03094646,\n",
       "        -0.04158679, -0.04482057, -0.02933303, -0.04332541,  0.03238209,\n",
       "        -0.01648643, -0.01962652, -0.01243225,  0.03524502, -0.03023523,\n",
       "        -0.03599139, -0.01254443, -0.00239539, -0.00571912, -0.02199226,\n",
       "         0.02188888, -0.03627527, -0.00413847, -0.01008438, -0.00026808,\n",
       "        -0.0035804 , -0.05408479,  0.0319026 ,  0.00629845, -0.03183237,\n",
       "        -0.03601008, -0.02111497, -0.05233965,  0.02711247, -0.00560134,\n",
       "        -0.03405882, -0.04405378,  0.03244839, -0.02269005, -0.00488788,\n",
       "         0.03322691, -0.01355287, -0.02677641], dtype=float32),\n",
       " array([[ 6.84557259e-02],\n",
       "        [-7.93393254e-02],\n",
       "        [ 1.56306848e-01],\n",
       "        [ 9.51170921e-02],\n",
       "        [-1.61740214e-01],\n",
       "        [-1.05161883e-01],\n",
       "        [-2.59591103e-01],\n",
       "        [-1.18424203e-02],\n",
       "        [-1.85392469e-01],\n",
       "        [-1.49945900e-01],\n",
       "        [-5.95062494e-01],\n",
       "        [-2.62838817e-04],\n",
       "        [-8.14075246e-02],\n",
       "        [ 1.02954142e-01],\n",
       "        [ 3.06388885e-01],\n",
       "        [-1.96131214e-01],\n",
       "        [ 2.28521079e-01],\n",
       "        [-8.79174247e-02],\n",
       "        [ 1.08201288e-01],\n",
       "        [-2.44342815e-02],\n",
       "        [ 1.49977818e-01],\n",
       "        [ 1.66479886e-01],\n",
       "        [ 2.74144441e-01],\n",
       "        [ 8.35566893e-02],\n",
       "        [ 5.35604283e-02],\n",
       "        [-7.79063702e-02],\n",
       "        [-1.37586698e-01],\n",
       "        [-2.12753043e-01],\n",
       "        [-1.46123633e-01],\n",
       "        [ 3.96579280e-02],\n",
       "        [ 5.13261557e-02],\n",
       "        [ 7.46281594e-02],\n",
       "        [-2.41022497e-01],\n",
       "        [ 2.01736748e-01],\n",
       "        [-1.06122136e-01],\n",
       "        [-2.06433520e-01],\n",
       "        [ 1.75045833e-01],\n",
       "        [-1.37278423e-01],\n",
       "        [-2.23014593e-01],\n",
       "        [-1.19688079e-01],\n",
       "        [ 2.04013735e-01],\n",
       "        [ 7.32824430e-02],\n",
       "        [ 1.94665268e-01],\n",
       "        [ 7.55223036e-02],\n",
       "        [-1.63743630e-01],\n",
       "        [ 1.24687500e-01],\n",
       "        [ 9.11451951e-02],\n",
       "        [-3.81043553e-01],\n",
       "        [-4.08181757e-01],\n",
       "        [ 1.86055630e-01],\n",
       "        [ 1.37637462e-02],\n",
       "        [-1.96846485e-01],\n",
       "        [-8.98168683e-02],\n",
       "        [-6.81250021e-02],\n",
       "        [-2.08142713e-01],\n",
       "        [ 3.25170606e-02],\n",
       "        [-3.33016932e-01],\n",
       "        [ 8.01459979e-03],\n",
       "        [-1.54458359e-01],\n",
       "        [ 2.38791436e-01],\n",
       "        [-1.84965461e-01],\n",
       "        [ 4.44669485e-01],\n",
       "        [-3.00566375e-01],\n",
       "        [-1.07399791e-01],\n",
       "        [ 2.00724453e-01],\n",
       "        [ 1.78469107e-01],\n",
       "        [-5.37065454e-02],\n",
       "        [-2.07542196e-01],\n",
       "        [ 2.96922140e-02],\n",
       "        [ 2.19357178e-01],\n",
       "        [ 5.76438047e-02],\n",
       "        [ 1.95510402e-01],\n",
       "        [-2.89637327e-01],\n",
       "        [-2.36263007e-01],\n",
       "        [ 6.02063313e-02],\n",
       "        [ 2.18768660e-02],\n",
       "        [-1.45010144e-01],\n",
       "        [-5.97898513e-02],\n",
       "        [-1.42078087e-01],\n",
       "        [-2.06069741e-02],\n",
       "        [ 2.28056069e-02],\n",
       "        [ 2.49621153e-01],\n",
       "        [ 1.02695271e-01],\n",
       "        [-1.05005257e-01],\n",
       "        [-1.60239413e-01],\n",
       "        [-2.59992421e-01],\n",
       "        [ 6.85340911e-02],\n",
       "        [-1.45622700e-01],\n",
       "        [-3.87881510e-02],\n",
       "        [ 3.62399012e-01],\n",
       "        [ 2.52227694e-01],\n",
       "        [-7.47373968e-04],\n",
       "        [ 3.46119404e-02],\n",
       "        [ 1.01665825e-01],\n",
       "        [-1.54952139e-01],\n",
       "        [ 1.18003219e-01],\n",
       "        [ 2.45249271e-02],\n",
       "        [-2.30324566e-01],\n",
       "        [ 4.50320959e-01],\n",
       "        [ 3.56605202e-01],\n",
       "        [ 6.12385087e-02],\n",
       "        [ 2.13868156e-01],\n",
       "        [ 1.63437441e-01],\n",
       "        [-3.51201952e-01],\n",
       "        [-4.98551913e-02],\n",
       "        [-9.47177708e-02],\n",
       "        [-1.15694806e-01],\n",
       "        [-5.95697723e-02],\n",
       "        [ 8.42987001e-02],\n",
       "        [ 1.77187219e-01],\n",
       "        [ 5.89062050e-02],\n",
       "        [ 4.74092774e-02],\n",
       "        [ 2.77302098e-02],\n",
       "        [ 1.83555469e-01],\n",
       "        [ 2.49996334e-01],\n",
       "        [ 1.32061213e-01],\n",
       "        [-6.41285479e-02],\n",
       "        [ 4.92765233e-02],\n",
       "        [ 2.39410415e-01],\n",
       "        [ 2.31725708e-01],\n",
       "        [ 2.95501709e-01],\n",
       "        [-2.60004520e-01],\n",
       "        [-2.22843334e-01],\n",
       "        [ 7.39169074e-03],\n",
       "        [-4.12003882e-03],\n",
       "        [ 1.15613379e-01],\n",
       "        [-1.60131797e-01],\n",
       "        [ 3.05112630e-01]], dtype=float32),\n",
       " array([0.15892138], dtype=float32)]"
      ]
     },
     "execution_count": 7,
     "metadata": {},
     "output_type": "execute_result"
    }
   ],
   "source": [
    "model.get_weights()"
   ]
  },
  {
   "cell_type": "code",
   "execution_count": 8,
   "id": "db68b48c",
   "metadata": {},
   "outputs": [],
   "source": [
    "# Step 2: Helper Functions\n",
    "# Function to decode reviews\n",
    "def decode_review(encoded_review):\n",
    "    return ' '.join([reverse_word_index.get(i - 3, '?') for i in encoded_review])\n",
    "\n",
    "# Function to preprocess user input\n",
    "def preprocess_text(text):\n",
    "    words = text.lower().split()\n",
    "    encoded_review = [word_index.get(word, 2) + 3 for word in words]\n",
    "    padded_review = sequence.pad_sequences([encoded_review], maxlen=500)\n",
    "    return padded_review"
   ]
  },
  {
   "cell_type": "code",
   "execution_count": 12,
   "id": "80e78599",
   "metadata": {},
   "outputs": [],
   "source": [
    "### Prediction function\n",
    "\n",
    "def predict_sentiment(review):\n",
    "    preprocessed_input=preprocess_text(review)\n",
    "\n",
    "    prediction = model.predict(preprocessed_input)\n",
    "\n",
    "    sentiment = 'Positive' if prediction[0][0] > 0.5 else 'Negative'\n",
    "\n",
    "    return sentiment, prediction[0][0]"
   ]
  },
  {
   "cell_type": "code",
   "execution_count": 14,
   "id": "797e8db1",
   "metadata": {},
   "outputs": [
    {
     "name": "stdout",
     "output_type": "stream",
     "text": [
      "\u001b[1m1/1\u001b[0m \u001b[32m━━━━━━━━━━━━━━━━━━━━\u001b[0m\u001b[37m\u001b[0m \u001b[1m0s\u001b[0m 49ms/step\n",
      "Review: This movie was fantastic! The acting was great and the plot was thriling.\n",
      "Sentiment: Positive\n",
      "Prediction Score: 0.6195727586746216\n"
     ]
    }
   ],
   "source": [
    "# Step 4: User Input and Prediction\n",
    "# Example review for prediction\n",
    "example_review = \"This movie was fantastic! The acting was great and the plot was thriling.\"\n",
    "\n",
    "sentiment, score = predict_sentiment(example_review)\n",
    "\n",
    "print(f'Review: {example_review}')\n",
    "print(f'Sentiment: {sentiment}')\n",
    "print(f'Prediction Score: {score}')"
   ]
  },
  {
   "cell_type": "code",
   "execution_count": null,
   "id": "5b14530f",
   "metadata": {},
   "outputs": [],
   "source": []
  }
 ],
 "metadata": {
  "kernelspec": {
   "display_name": "Python 3",
   "language": "python",
   "name": "python3"
  },
  "language_info": {
   "codemirror_mode": {
    "name": "ipython",
    "version": 3
   },
   "file_extension": ".py",
   "mimetype": "text/x-python",
   "name": "python",
   "nbconvert_exporter": "python",
   "pygments_lexer": "ipython3",
   "version": "3.12.0"
  }
 },
 "nbformat": 4,
 "nbformat_minor": 5
}
